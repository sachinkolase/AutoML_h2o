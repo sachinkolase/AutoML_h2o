{
 "cells": [
  {
   "cell_type": "code",
   "execution_count": 1,
   "metadata": {},
   "outputs": [],
   "source": [
    "import h2o\n"
   ]
  },
  {
   "cell_type": "code",
   "execution_count": 2,
   "metadata": {},
   "outputs": [],
   "source": [
    "from h2o.automl import H2OAutoML"
   ]
  },
  {
   "cell_type": "code",
   "execution_count": 3,
   "metadata": {},
   "outputs": [
    {
     "name": "stdout",
     "output_type": "stream",
     "text": [
      "Checking whether there is an H2O instance running at http://localhost:54321. connected.\n"
     ]
    },
    {
     "data": {
      "text/html": [
       "<div style=\"overflow:auto\"><table style=\"width:50%\"><tr><td>H2O cluster uptime:</td>\n",
       "<td>4 hours 31 mins</td></tr>\n",
       "<tr><td>H2O cluster timezone:</td>\n",
       "<td>Asia/Kolkata</td></tr>\n",
       "<tr><td>H2O data parsing timezone:</td>\n",
       "<td>UTC</td></tr>\n",
       "<tr><td>H2O cluster version:</td>\n",
       "<td>3.20.0.10</td></tr>\n",
       "<tr><td>H2O cluster version age:</td>\n",
       "<td>6 days </td></tr>\n",
       "<tr><td>H2O cluster name:</td>\n",
       "<td>H2O_from_python_Sachin_98sxtt</td></tr>\n",
       "<tr><td>H2O cluster total nodes:</td>\n",
       "<td>1</td></tr>\n",
       "<tr><td>H2O cluster free memory:</td>\n",
       "<td>426.5 Mb</td></tr>\n",
       "<tr><td>H2O cluster total cores:</td>\n",
       "<td>4</td></tr>\n",
       "<tr><td>H2O cluster allowed cores:</td>\n",
       "<td>4</td></tr>\n",
       "<tr><td>H2O cluster status:</td>\n",
       "<td>locked, healthy</td></tr>\n",
       "<tr><td>H2O connection url:</td>\n",
       "<td>http://localhost:54321</td></tr>\n",
       "<tr><td>H2O connection proxy:</td>\n",
       "<td>None</td></tr>\n",
       "<tr><td>H2O internal security:</td>\n",
       "<td>False</td></tr>\n",
       "<tr><td>H2O API Extensions:</td>\n",
       "<td>Algos, AutoML, Core V3, Core V4</td></tr>\n",
       "<tr><td>Python version:</td>\n",
       "<td>3.6.4 final</td></tr></table></div>"
      ],
      "text/plain": [
       "--------------------------  -------------------------------\n",
       "H2O cluster uptime:         4 hours 31 mins\n",
       "H2O cluster timezone:       Asia/Kolkata\n",
       "H2O data parsing timezone:  UTC\n",
       "H2O cluster version:        3.20.0.10\n",
       "H2O cluster version age:    6 days\n",
       "H2O cluster name:           H2O_from_python_Sachin_98sxtt\n",
       "H2O cluster total nodes:    1\n",
       "H2O cluster free memory:    426.5 Mb\n",
       "H2O cluster total cores:    4\n",
       "H2O cluster allowed cores:  4\n",
       "H2O cluster status:         locked, healthy\n",
       "H2O connection url:         http://localhost:54321\n",
       "H2O connection proxy:\n",
       "H2O internal security:      False\n",
       "H2O API Extensions:         Algos, AutoML, Core V3, Core V4\n",
       "Python version:             3.6.4 final\n",
       "--------------------------  -------------------------------"
      ]
     },
     "metadata": {},
     "output_type": "display_data"
    }
   ],
   "source": [
    "h2o.init()"
   ]
  },
  {
   "cell_type": "code",
   "execution_count": 4,
   "metadata": {},
   "outputs": [
    {
     "name": "stdout",
     "output_type": "stream",
     "text": [
      "Parse progress: |█████████████████████████████████████████████████████████| 100%\n"
     ]
    }
   ],
   "source": [
    "df = h2o.import_file('loan prediction.csv')"
   ]
  },
  {
   "cell_type": "code",
   "execution_count": 5,
   "metadata": {},
   "outputs": [
    {
     "data": {
      "text/html": [
       "<table>\n",
       "<thead>\n",
       "<tr><th>Loan_ID  </th><th>Gender  </th><th>Married  </th><th style=\"text-align: right;\">  Dependents</th><th>Education   </th><th>Self_Employed  </th><th style=\"text-align: right;\">  ApplicantIncome</th><th style=\"text-align: right;\">  CoapplicantIncome</th><th style=\"text-align: right;\">  LoanAmount</th><th style=\"text-align: right;\">  Loan_Amount_Term</th><th style=\"text-align: right;\">  Credit_History</th><th>Property_Area  </th><th>Loan_Status  </th></tr>\n",
       "</thead>\n",
       "<tbody>\n",
       "<tr><td>LP001002 </td><td>Male    </td><td>No       </td><td style=\"text-align: right;\">           0</td><td>Graduate    </td><td>No             </td><td style=\"text-align: right;\">             5849</td><td style=\"text-align: right;\">                  0</td><td style=\"text-align: right;\">         nan</td><td style=\"text-align: right;\">               360</td><td style=\"text-align: right;\">               1</td><td>Urban          </td><td>Y            </td></tr>\n",
       "<tr><td>LP001003 </td><td>Male    </td><td>Yes      </td><td style=\"text-align: right;\">           1</td><td>Graduate    </td><td>No             </td><td style=\"text-align: right;\">             4583</td><td style=\"text-align: right;\">               1508</td><td style=\"text-align: right;\">         128</td><td style=\"text-align: right;\">               360</td><td style=\"text-align: right;\">               1</td><td>Rural          </td><td>N            </td></tr>\n",
       "<tr><td>LP001005 </td><td>Male    </td><td>Yes      </td><td style=\"text-align: right;\">           0</td><td>Graduate    </td><td>Yes            </td><td style=\"text-align: right;\">             3000</td><td style=\"text-align: right;\">                  0</td><td style=\"text-align: right;\">          66</td><td style=\"text-align: right;\">               360</td><td style=\"text-align: right;\">               1</td><td>Urban          </td><td>Y            </td></tr>\n",
       "<tr><td>LP001006 </td><td>Male    </td><td>Yes      </td><td style=\"text-align: right;\">           0</td><td>Not Graduate</td><td>No             </td><td style=\"text-align: right;\">             2583</td><td style=\"text-align: right;\">               2358</td><td style=\"text-align: right;\">         120</td><td style=\"text-align: right;\">               360</td><td style=\"text-align: right;\">               1</td><td>Urban          </td><td>Y            </td></tr>\n",
       "<tr><td>LP001008 </td><td>Male    </td><td>No       </td><td style=\"text-align: right;\">           0</td><td>Graduate    </td><td>No             </td><td style=\"text-align: right;\">             6000</td><td style=\"text-align: right;\">                  0</td><td style=\"text-align: right;\">         141</td><td style=\"text-align: right;\">               360</td><td style=\"text-align: right;\">               1</td><td>Urban          </td><td>Y            </td></tr>\n",
       "<tr><td>LP001011 </td><td>Male    </td><td>Yes      </td><td style=\"text-align: right;\">           2</td><td>Graduate    </td><td>Yes            </td><td style=\"text-align: right;\">             5417</td><td style=\"text-align: right;\">               4196</td><td style=\"text-align: right;\">         267</td><td style=\"text-align: right;\">               360</td><td style=\"text-align: right;\">               1</td><td>Urban          </td><td>Y            </td></tr>\n",
       "<tr><td>LP001013 </td><td>Male    </td><td>Yes      </td><td style=\"text-align: right;\">           0</td><td>Not Graduate</td><td>No             </td><td style=\"text-align: right;\">             2333</td><td style=\"text-align: right;\">               1516</td><td style=\"text-align: right;\">          95</td><td style=\"text-align: right;\">               360</td><td style=\"text-align: right;\">               1</td><td>Urban          </td><td>Y            </td></tr>\n",
       "<tr><td>LP001014 </td><td>Male    </td><td>Yes      </td><td style=\"text-align: right;\">         nan</td><td>Graduate    </td><td>No             </td><td style=\"text-align: right;\">             3036</td><td style=\"text-align: right;\">               2504</td><td style=\"text-align: right;\">         158</td><td style=\"text-align: right;\">               360</td><td style=\"text-align: right;\">               0</td><td>Semiurban      </td><td>N            </td></tr>\n",
       "<tr><td>LP001018 </td><td>Male    </td><td>Yes      </td><td style=\"text-align: right;\">           2</td><td>Graduate    </td><td>No             </td><td style=\"text-align: right;\">             4006</td><td style=\"text-align: right;\">               1526</td><td style=\"text-align: right;\">         168</td><td style=\"text-align: right;\">               360</td><td style=\"text-align: right;\">               1</td><td>Urban          </td><td>Y            </td></tr>\n",
       "<tr><td>LP001020 </td><td>Male    </td><td>Yes      </td><td style=\"text-align: right;\">           1</td><td>Graduate    </td><td>No             </td><td style=\"text-align: right;\">            12841</td><td style=\"text-align: right;\">              10968</td><td style=\"text-align: right;\">         349</td><td style=\"text-align: right;\">               360</td><td style=\"text-align: right;\">               1</td><td>Semiurban      </td><td>N            </td></tr>\n",
       "</tbody>\n",
       "</table>"
      ]
     },
     "metadata": {},
     "output_type": "display_data"
    },
    {
     "data": {
      "text/plain": []
     },
     "execution_count": 5,
     "metadata": {},
     "output_type": "execute_result"
    }
   ],
   "source": [
    "df.head()"
   ]
  },
  {
   "cell_type": "code",
   "execution_count": 6,
   "metadata": {},
   "outputs": [
    {
     "ename": "TypeError",
     "evalue": "'list' object is not callable",
     "output_type": "error",
     "traceback": [
      "\u001b[1;31m---------------------------------------------------------------------------\u001b[0m",
      "\u001b[1;31mTypeError\u001b[0m                                 Traceback (most recent call last)",
      "\u001b[1;32m<ipython-input-6-b9a90b7cca96>\u001b[0m in \u001b[0;36m<module>\u001b[1;34m()\u001b[0m\n\u001b[1;32m----> 1\u001b[1;33m \u001b[0mdf\u001b[0m\u001b[1;33m.\u001b[0m\u001b[0mnames\u001b[0m\u001b[1;33m(\u001b[0m\u001b[1;33m)\u001b[0m\u001b[1;33m\u001b[0m\u001b[0m\n\u001b[0m",
      "\u001b[1;31mTypeError\u001b[0m: 'list' object is not callable"
     ]
    }
   ],
   "source": [
    "df.names()"
   ]
  },
  {
   "cell_type": "code",
   "execution_count": 7,
   "metadata": {},
   "outputs": [
    {
     "ename": "AttributeError",
     "evalue": "'H2OFrame' object has no attribute 'name'",
     "output_type": "error",
     "traceback": [
      "\u001b[1;31m---------------------------------------------------------------------------\u001b[0m",
      "\u001b[1;31mAttributeError\u001b[0m                            Traceback (most recent call last)",
      "\u001b[1;32m<ipython-input-7-87017fdebad7>\u001b[0m in \u001b[0;36m<module>\u001b[1;34m()\u001b[0m\n\u001b[1;32m----> 1\u001b[1;33m \u001b[0mdf\u001b[0m\u001b[1;33m.\u001b[0m\u001b[0mname\u001b[0m\u001b[1;33m\u001b[0m\u001b[0m\n\u001b[0m",
      "\u001b[1;31mAttributeError\u001b[0m: 'H2OFrame' object has no attribute 'name'"
     ]
    }
   ],
   "source": [
    "df.name"
   ]
  },
  {
   "cell_type": "code",
   "execution_count": 8,
   "metadata": {},
   "outputs": [
    {
     "data": {
      "text/plain": [
       "['Loan_ID',\n",
       " 'Gender',\n",
       " 'Married',\n",
       " 'Dependents',\n",
       " 'Education',\n",
       " 'Self_Employed',\n",
       " 'ApplicantIncome',\n",
       " 'CoapplicantIncome',\n",
       " 'LoanAmount',\n",
       " 'Loan_Amount_Term',\n",
       " 'Credit_History',\n",
       " 'Property_Area',\n",
       " 'Loan_Status']"
      ]
     },
     "execution_count": 8,
     "metadata": {},
     "output_type": "execute_result"
    }
   ],
   "source": [
    "df.names"
   ]
  },
  {
   "cell_type": "code",
   "execution_count": 9,
   "metadata": {},
   "outputs": [],
   "source": [
    "df['Loan_Status']=df['Loan_Status'].asfactor()"
   ]
  },
  {
   "cell_type": "code",
   "execution_count": 10,
   "metadata": {},
   "outputs": [],
   "source": [
    "y = \"Loan_Status\"\n",
    "x = ['Gender','Married','Education','ApplicantIncome','LoanAmount','CoapplicantIncome','Loan_Amount_Term','Credit_History','Property_Area']\n"
   ]
  },
  {
   "cell_type": "code",
   "execution_count": 11,
   "metadata": {},
   "outputs": [],
   "source": [
    "aml = H2OAutoML(max_models = 30, max_runtime_secs=300, seed = 1)"
   ]
  },
  {
   "cell_type": "code",
   "execution_count": 12,
   "metadata": {},
   "outputs": [
    {
     "name": "stdout",
     "output_type": "stream",
     "text": [
      "AutoML progress: |████████████████████████████████████████████████████████| 100%\n"
     ]
    }
   ],
   "source": [
    "aml.train(x = x, y = y, training_frame = df)"
   ]
  },
  {
   "cell_type": "code",
   "execution_count": 13,
   "metadata": {},
   "outputs": [],
   "source": [
    "lb = aml.leaderboard"
   ]
  },
  {
   "cell_type": "code",
   "execution_count": 14,
   "metadata": {},
   "outputs": [
    {
     "data": {
      "text/html": [
       "<table>\n",
       "<thead>\n",
       "<tr><th>model_id                                             </th><th style=\"text-align: right;\">     auc</th><th style=\"text-align: right;\">  logloss</th><th style=\"text-align: right;\">  mean_per_class_error</th><th style=\"text-align: right;\">    rmse</th><th style=\"text-align: right;\">     mse</th></tr>\n",
       "</thead>\n",
       "<tbody>\n",
       "<tr><td>GBM_grid_0_AutoML_20181023_003430_model_11           </td><td style=\"text-align: right;\">0.774157</td><td style=\"text-align: right;\"> 0.472451</td><td style=\"text-align: right;\">              0.278178</td><td style=\"text-align: right;\">0.387693</td><td style=\"text-align: right;\">0.150306</td></tr>\n",
       "<tr><td>GBM_grid_0_AutoML_20181023_003430_model_7            </td><td style=\"text-align: right;\">0.772604</td><td style=\"text-align: right;\"> 0.469598</td><td style=\"text-align: right;\">              0.283256</td><td style=\"text-align: right;\">0.386241</td><td style=\"text-align: right;\">0.149182</td></tr>\n",
       "<tr><td>GBM_grid_0_AutoML_20181023_003430_model_2            </td><td style=\"text-align: right;\">0.771566</td><td style=\"text-align: right;\"> 0.487566</td><td style=\"text-align: right;\">              0.272747</td><td style=\"text-align: right;\">0.394494</td><td style=\"text-align: right;\">0.155625</td></tr>\n",
       "<tr><td>GBM_grid_0_AutoML_20181023_003430_model_3            </td><td style=\"text-align: right;\">0.769555</td><td style=\"text-align: right;\"> 0.489169</td><td style=\"text-align: right;\">              0.281446</td><td style=\"text-align: right;\">0.394291</td><td style=\"text-align: right;\">0.155465</td></tr>\n",
       "<tr><td>GBM_grid_0_AutoML_20181023_003430_model_1            </td><td style=\"text-align: right;\">0.768422</td><td style=\"text-align: right;\"> 0.488026</td><td style=\"text-align: right;\">              0.282904</td><td style=\"text-align: right;\">0.393912</td><td style=\"text-align: right;\">0.155167</td></tr>\n",
       "<tr><td>StackedEnsemble_BestOfFamily_0_AutoML_20181023_003430</td><td style=\"text-align: right;\">0.765887</td><td style=\"text-align: right;\"> 0.469284</td><td style=\"text-align: right;\">              0.27672 </td><td style=\"text-align: right;\">0.383971</td><td style=\"text-align: right;\">0.147434</td></tr>\n",
       "<tr><td>DRF_0_AutoML_20181023_003430                         </td><td style=\"text-align: right;\">0.764868</td><td style=\"text-align: right;\"> 1.45724 </td><td style=\"text-align: right;\">              0.308342</td><td style=\"text-align: right;\">0.407289</td><td style=\"text-align: right;\">0.165885</td></tr>\n",
       "<tr><td>StackedEnsemble_AllModels_0_AutoML_20181023_003430   </td><td style=\"text-align: right;\">0.76342 </td><td style=\"text-align: right;\"> 0.47322 </td><td style=\"text-align: right;\">              0.27672 </td><td style=\"text-align: right;\">0.386571</td><td style=\"text-align: right;\">0.149437</td></tr>\n",
       "<tr><td>GLM_grid_0_AutoML_20181023_003430_model_0            </td><td style=\"text-align: right;\">0.762686</td><td style=\"text-align: right;\"> 0.469032</td><td style=\"text-align: right;\">              0.27672 </td><td style=\"text-align: right;\">0.383747</td><td style=\"text-align: right;\">0.147262</td></tr>\n",
       "<tr><td>GBM_grid_0_AutoML_20181023_003430_model_0            </td><td style=\"text-align: right;\">0.760438</td><td style=\"text-align: right;\"> 0.509575</td><td style=\"text-align: right;\">              0.299596</td><td style=\"text-align: right;\">0.405126</td><td style=\"text-align: right;\">0.164127</td></tr>\n",
       "</tbody>\n",
       "</table>"
      ]
     },
     "metadata": {},
     "output_type": "display_data"
    },
    {
     "data": {
      "text/plain": []
     },
     "execution_count": 14,
     "metadata": {},
     "output_type": "execute_result"
    }
   ],
   "source": [
    "lb.head()"
   ]
  },
  {
   "cell_type": "code",
   "execution_count": 15,
   "metadata": {},
   "outputs": [
    {
     "data": {
      "text/html": [
       "<table>\n",
       "<thead>\n",
       "<tr><th>model_id                                             </th><th style=\"text-align: right;\">     auc</th><th style=\"text-align: right;\">  logloss</th><th style=\"text-align: right;\">  mean_per_class_error</th><th style=\"text-align: right;\">    rmse</th><th style=\"text-align: right;\">     mse</th></tr>\n",
       "</thead>\n",
       "<tbody>\n",
       "<tr><td>GBM_grid_0_AutoML_20181023_003430_model_11           </td><td style=\"text-align: right;\">0.774157</td><td style=\"text-align: right;\"> 0.472451</td><td style=\"text-align: right;\">              0.278178</td><td style=\"text-align: right;\">0.387693</td><td style=\"text-align: right;\">0.150306</td></tr>\n",
       "<tr><td>GBM_grid_0_AutoML_20181023_003430_model_7            </td><td style=\"text-align: right;\">0.772604</td><td style=\"text-align: right;\"> 0.469598</td><td style=\"text-align: right;\">              0.283256</td><td style=\"text-align: right;\">0.386241</td><td style=\"text-align: right;\">0.149182</td></tr>\n",
       "<tr><td>GBM_grid_0_AutoML_20181023_003430_model_2            </td><td style=\"text-align: right;\">0.771566</td><td style=\"text-align: right;\"> 0.487566</td><td style=\"text-align: right;\">              0.272747</td><td style=\"text-align: right;\">0.394494</td><td style=\"text-align: right;\">0.155625</td></tr>\n",
       "<tr><td>GBM_grid_0_AutoML_20181023_003430_model_3            </td><td style=\"text-align: right;\">0.769555</td><td style=\"text-align: right;\"> 0.489169</td><td style=\"text-align: right;\">              0.281446</td><td style=\"text-align: right;\">0.394291</td><td style=\"text-align: right;\">0.155465</td></tr>\n",
       "<tr><td>GBM_grid_0_AutoML_20181023_003430_model_1            </td><td style=\"text-align: right;\">0.768422</td><td style=\"text-align: right;\"> 0.488026</td><td style=\"text-align: right;\">              0.282904</td><td style=\"text-align: right;\">0.393912</td><td style=\"text-align: right;\">0.155167</td></tr>\n",
       "<tr><td>StackedEnsemble_BestOfFamily_0_AutoML_20181023_003430</td><td style=\"text-align: right;\">0.765887</td><td style=\"text-align: right;\"> 0.469284</td><td style=\"text-align: right;\">              0.27672 </td><td style=\"text-align: right;\">0.383971</td><td style=\"text-align: right;\">0.147434</td></tr>\n",
       "<tr><td>DRF_0_AutoML_20181023_003430                         </td><td style=\"text-align: right;\">0.764868</td><td style=\"text-align: right;\"> 1.45724 </td><td style=\"text-align: right;\">              0.308342</td><td style=\"text-align: right;\">0.407289</td><td style=\"text-align: right;\">0.165885</td></tr>\n",
       "<tr><td>StackedEnsemble_AllModels_0_AutoML_20181023_003430   </td><td style=\"text-align: right;\">0.76342 </td><td style=\"text-align: right;\"> 0.47322 </td><td style=\"text-align: right;\">              0.27672 </td><td style=\"text-align: right;\">0.386571</td><td style=\"text-align: right;\">0.149437</td></tr>\n",
       "<tr><td>GLM_grid_0_AutoML_20181023_003430_model_0            </td><td style=\"text-align: right;\">0.762686</td><td style=\"text-align: right;\"> 0.469032</td><td style=\"text-align: right;\">              0.27672 </td><td style=\"text-align: right;\">0.383747</td><td style=\"text-align: right;\">0.147262</td></tr>\n",
       "<tr><td>GBM_grid_0_AutoML_20181023_003430_model_0            </td><td style=\"text-align: right;\">0.760438</td><td style=\"text-align: right;\"> 0.509575</td><td style=\"text-align: right;\">              0.299596</td><td style=\"text-align: right;\">0.405126</td><td style=\"text-align: right;\">0.164127</td></tr>\n",
       "<tr><td>DeepLearning_0_AutoML_20181023_003430                </td><td style=\"text-align: right;\">0.758084</td><td style=\"text-align: right;\"> 0.517852</td><td style=\"text-align: right;\">              0.31121 </td><td style=\"text-align: right;\">0.403965</td><td style=\"text-align: right;\">0.163188</td></tr>\n",
       "<tr><td>DeepLearning_grid_0_AutoML_20181023_003430_model_0   </td><td style=\"text-align: right;\">0.754568</td><td style=\"text-align: right;\"> 0.563869</td><td style=\"text-align: right;\">              0.286524</td><td style=\"text-align: right;\">0.400197</td><td style=\"text-align: right;\">0.160158</td></tr>\n",
       "<tr><td>GBM_grid_0_AutoML_20181023_003430_model_9            </td><td style=\"text-align: right;\">0.746375</td><td style=\"text-align: right;\"> 0.514441</td><td style=\"text-align: right;\">              0.285066</td><td style=\"text-align: right;\">0.40793 </td><td style=\"text-align: right;\">0.166407</td></tr>\n",
       "<tr><td>XRT_0_AutoML_20181023_003430                         </td><td style=\"text-align: right;\">0.744803</td><td style=\"text-align: right;\"> 1.17269 </td><td style=\"text-align: right;\">              0.29527 </td><td style=\"text-align: right;\">0.411918</td><td style=\"text-align: right;\">0.169676</td></tr>\n",
       "<tr><td>GBM_grid_0_AutoML_20181023_003430_model_10           </td><td style=\"text-align: right;\">0.743135</td><td style=\"text-align: right;\"> 0.5784  </td><td style=\"text-align: right;\">              0.279988</td><td style=\"text-align: right;\">0.442484</td><td style=\"text-align: right;\">0.195792</td></tr>\n",
       "<tr><td>GBM_grid_0_AutoML_20181023_003430_model_6            </td><td style=\"text-align: right;\">0.69484 </td><td style=\"text-align: right;\"> 1.01257 </td><td style=\"text-align: right;\">              0.392557</td><td style=\"text-align: right;\">0.485918</td><td style=\"text-align: right;\">0.236116</td></tr>\n",
       "<tr><td>GBM_grid_0_AutoML_20181023_003430_model_5            </td><td style=\"text-align: right;\">0.625383</td><td style=\"text-align: right;\"> 0.610895</td><td style=\"text-align: right;\">              0.409249</td><td style=\"text-align: right;\">0.458592</td><td style=\"text-align: right;\">0.210307</td></tr>\n",
       "<tr><td>GBM_grid_0_AutoML_20181023_003430_model_4            </td><td style=\"text-align: right;\">0.547981</td><td style=\"text-align: right;\"> 0.617839</td><td style=\"text-align: right;\">              0.5     </td><td style=\"text-align: right;\">0.462029</td><td style=\"text-align: right;\">0.213471</td></tr>\n",
       "<tr><td>GBM_grid_0_AutoML_20181023_003430_model_8            </td><td style=\"text-align: right;\">0.445169</td><td style=\"text-align: right;\"> 0.620662</td><td style=\"text-align: right;\">              0.5     </td><td style=\"text-align: right;\">0.463144</td><td style=\"text-align: right;\">0.214502</td></tr>\n",
       "</tbody>\n",
       "</table>"
      ]
     },
     "metadata": {},
     "output_type": "display_data"
    },
    {
     "data": {
      "text/plain": []
     },
     "execution_count": 15,
     "metadata": {},
     "output_type": "execute_result"
    }
   ],
   "source": [
    "lb.head(rows=lb.nrows)"
   ]
  },
  {
   "cell_type": "code",
   "execution_count": null,
   "metadata": {},
   "outputs": [],
   "source": []
  }
 ],
 "metadata": {
  "kernelspec": {
   "display_name": "Python 3",
   "language": "python",
   "name": "python3"
  },
  "language_info": {
   "codemirror_mode": {
    "name": "ipython",
    "version": 3
   },
   "file_extension": ".py",
   "mimetype": "text/x-python",
   "name": "python",
   "nbconvert_exporter": "python",
   "pygments_lexer": "ipython3",
   "version": "3.6.4"
  }
 },
 "nbformat": 4,
 "nbformat_minor": 2
}
